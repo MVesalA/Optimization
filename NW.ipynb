{
 "cells": [
  {
   "cell_type": "code",
   "execution_count": 1,
   "id": "defef352-2473-4c67-bd86-602045835a1f",
   "metadata": {},
   "outputs": [],
   "source": [
    "import pandas as pd\n",
    "import numpy as np\n",
    "import warnings\n",
    "warnings.filterwarnings(\"ignore\") "
   ]
  },
  {
   "cell_type": "code",
   "execution_count": 2,
   "id": "df611046-d582-421a-bb56-05babf21ea08",
   "metadata": {},
   "outputs": [],
   "source": [
    "df = pd.read_csv('NW.txt')"
   ]
  },
  {
   "cell_type": "code",
   "execution_count": 3,
   "id": "55a50590-90fc-4feb-ac6c-9fbfec63295c",
   "metadata": {},
   "outputs": [
    {
     "data": {
      "text/html": [
       "<div>\n",
       "<style scoped>\n",
       "    .dataframe tbody tr th:only-of-type {\n",
       "        vertical-align: middle;\n",
       "    }\n",
       "\n",
       "    .dataframe tbody tr th {\n",
       "        vertical-align: top;\n",
       "    }\n",
       "\n",
       "    .dataframe thead th {\n",
       "        text-align: right;\n",
       "    }\n",
       "</style>\n",
       "<table border=\"1\" class=\"dataframe\">\n",
       "  <thead>\n",
       "    <tr style=\"text-align: right;\">\n",
       "      <th></th>\n",
       "      <th>A</th>\n",
       "      <th>B</th>\n",
       "      <th>C</th>\n",
       "      <th>n</th>\n",
       "    </tr>\n",
       "  </thead>\n",
       "  <tbody>\n",
       "    <tr>\n",
       "      <th>0</th>\n",
       "      <td>15</td>\n",
       "      <td>12</td>\n",
       "      <td>24</td>\n",
       "      <td>400</td>\n",
       "    </tr>\n",
       "    <tr>\n",
       "      <th>1</th>\n",
       "      <td>7</td>\n",
       "      <td>8</td>\n",
       "      <td>15</td>\n",
       "      <td>300</td>\n",
       "    </tr>\n",
       "    <tr>\n",
       "      <th>2</th>\n",
       "      <td>27</td>\n",
       "      <td>18</td>\n",
       "      <td>21</td>\n",
       "      <td>100</td>\n",
       "    </tr>\n",
       "    <tr>\n",
       "      <th>3</th>\n",
       "      <td>360</td>\n",
       "      <td>300</td>\n",
       "      <td>140</td>\n",
       "      <td>0</td>\n",
       "    </tr>\n",
       "  </tbody>\n",
       "</table>\n",
       "</div>"
      ],
      "text/plain": [
       "     A    B    C    n\n",
       "0   15   12   24  400\n",
       "1    7    8   15  300\n",
       "2   27   18   21  100\n",
       "3  360  300  140    0"
      ]
     },
     "execution_count": 3,
     "metadata": {},
     "output_type": "execute_result"
    }
   ],
   "source": [
    "df"
   ]
  },
  {
   "cell_type": "code",
   "execution_count": 4,
   "id": "adc624bd-c096-4d88-ac10-be75fdf40c2e",
   "metadata": {},
   "outputs": [],
   "source": [
    "# new table for saving variations of coefficients (coefficients are in previous table(df))\n",
    "def Variations(df):\n",
    "    npy = np.zeros((df.shape[0]-1, df.shape[1]-1))\n",
    "    df_variations = pd.DataFrame(npy)\n",
    "    return df_variations"
   ]
  },
  {
   "cell_type": "code",
   "execution_count": 5,
   "id": "7539bde5-70c0-4e6e-9e0d-8622dac6dbfe",
   "metadata": {},
   "outputs": [],
   "source": [
    "df_variations = Variations(df)"
   ]
  },
  {
   "cell_type": "code",
   "execution_count": 6,
   "id": "047bef0e-f4f6-416e-9fd3-7274a3f4fc37",
   "metadata": {},
   "outputs": [
    {
     "data": {
      "text/html": [
       "<div>\n",
       "<style scoped>\n",
       "    .dataframe tbody tr th:only-of-type {\n",
       "        vertical-align: middle;\n",
       "    }\n",
       "\n",
       "    .dataframe tbody tr th {\n",
       "        vertical-align: top;\n",
       "    }\n",
       "\n",
       "    .dataframe thead th {\n",
       "        text-align: right;\n",
       "    }\n",
       "</style>\n",
       "<table border=\"1\" class=\"dataframe\">\n",
       "  <thead>\n",
       "    <tr style=\"text-align: right;\">\n",
       "      <th></th>\n",
       "      <th>0</th>\n",
       "      <th>1</th>\n",
       "      <th>2</th>\n",
       "    </tr>\n",
       "  </thead>\n",
       "  <tbody>\n",
       "    <tr>\n",
       "      <th>0</th>\n",
       "      <td>0.0</td>\n",
       "      <td>0.0</td>\n",
       "      <td>0.0</td>\n",
       "    </tr>\n",
       "    <tr>\n",
       "      <th>1</th>\n",
       "      <td>0.0</td>\n",
       "      <td>0.0</td>\n",
       "      <td>0.0</td>\n",
       "    </tr>\n",
       "    <tr>\n",
       "      <th>2</th>\n",
       "      <td>0.0</td>\n",
       "      <td>0.0</td>\n",
       "      <td>0.0</td>\n",
       "    </tr>\n",
       "  </tbody>\n",
       "</table>\n",
       "</div>"
      ],
      "text/plain": [
       "     0    1    2\n",
       "0  0.0  0.0  0.0\n",
       "1  0.0  0.0  0.0\n",
       "2  0.0  0.0  0.0"
      ]
     },
     "execution_count": 6,
     "metadata": {},
     "output_type": "execute_result"
    }
   ],
   "source": [
    "df_variations"
   ]
  },
  {
   "cell_type": "markdown",
   "id": "719236db-25b6-46cc-8837-1efd944d4466",
   "metadata": {},
   "source": [
    "# Northwest corner"
   ]
  },
  {
   "cell_type": "markdown",
   "id": "c1eff6b5-1ba0-4641-b7a7-f99bdbe0ecca",
   "metadata": {},
   "source": [
    "## 1th step"
   ]
  },
  {
   "cell_type": "code",
   "execution_count": 7,
   "id": "45ea41f6-3467-4b5a-9d4d-d0e59c94a4df",
   "metadata": {},
   "outputs": [],
   "source": [
    "def NW_1th(df, df2):\n",
    "    n = 0 # number of row\n",
    "    m = 0 # number of column\n",
    "    if df.iloc[0][-1] >= df.iloc[-1][0]:\n",
    "        df2.iloc[n][m] = df.iloc[-1][0]\n",
    "        df.iloc[0][-1] -= df.iloc[-1][0]    \n",
    "        df.iloc[-1][0] -= df.iloc[-1][0] # = 0\n",
    "        \n",
    "        m += 1\n",
    "        \n",
    "    else:\n",
    "        df2.iloc[n][m] = df.iloc[0][-1]\n",
    "        df.iloc[-1][0] -= df.iloc[0][-1]    \n",
    "        df.iloc[0][-1] -= df.iloc[0][-1] # = 0 \n",
    "        \n",
    "        n += 1\n",
    "\n",
    "    return n, m, df, df2"
   ]
  },
  {
   "cell_type": "code",
   "execution_count": 8,
   "id": "982bcc0b-b30c-4d73-a63e-8e662808cb93",
   "metadata": {},
   "outputs": [],
   "source": [
    "n, m, df, df_variations = NW_1th(df, df_variations)"
   ]
  },
  {
   "cell_type": "code",
   "execution_count": 9,
   "id": "b9ff7291-9aee-416a-b2a1-821c942edd54",
   "metadata": {},
   "outputs": [
    {
     "data": {
      "text/html": [
       "<div>\n",
       "<style scoped>\n",
       "    .dataframe tbody tr th:only-of-type {\n",
       "        vertical-align: middle;\n",
       "    }\n",
       "\n",
       "    .dataframe tbody tr th {\n",
       "        vertical-align: top;\n",
       "    }\n",
       "\n",
       "    .dataframe thead th {\n",
       "        text-align: right;\n",
       "    }\n",
       "</style>\n",
       "<table border=\"1\" class=\"dataframe\">\n",
       "  <thead>\n",
       "    <tr style=\"text-align: right;\">\n",
       "      <th></th>\n",
       "      <th>A</th>\n",
       "      <th>B</th>\n",
       "      <th>C</th>\n",
       "      <th>n</th>\n",
       "    </tr>\n",
       "  </thead>\n",
       "  <tbody>\n",
       "    <tr>\n",
       "      <th>0</th>\n",
       "      <td>15</td>\n",
       "      <td>12</td>\n",
       "      <td>24</td>\n",
       "      <td>40</td>\n",
       "    </tr>\n",
       "    <tr>\n",
       "      <th>1</th>\n",
       "      <td>7</td>\n",
       "      <td>8</td>\n",
       "      <td>15</td>\n",
       "      <td>300</td>\n",
       "    </tr>\n",
       "    <tr>\n",
       "      <th>2</th>\n",
       "      <td>27</td>\n",
       "      <td>18</td>\n",
       "      <td>21</td>\n",
       "      <td>100</td>\n",
       "    </tr>\n",
       "    <tr>\n",
       "      <th>3</th>\n",
       "      <td>0</td>\n",
       "      <td>300</td>\n",
       "      <td>140</td>\n",
       "      <td>0</td>\n",
       "    </tr>\n",
       "  </tbody>\n",
       "</table>\n",
       "</div>"
      ],
      "text/plain": [
       "    A    B    C    n\n",
       "0  15   12   24   40\n",
       "1   7    8   15  300\n",
       "2  27   18   21  100\n",
       "3   0  300  140    0"
      ]
     },
     "execution_count": 9,
     "metadata": {},
     "output_type": "execute_result"
    }
   ],
   "source": [
    "df"
   ]
  },
  {
   "cell_type": "code",
   "execution_count": 10,
   "id": "b5275218-2b4f-4d08-a3f5-49a294cf8c6b",
   "metadata": {},
   "outputs": [
    {
     "data": {
      "text/html": [
       "<div>\n",
       "<style scoped>\n",
       "    .dataframe tbody tr th:only-of-type {\n",
       "        vertical-align: middle;\n",
       "    }\n",
       "\n",
       "    .dataframe tbody tr th {\n",
       "        vertical-align: top;\n",
       "    }\n",
       "\n",
       "    .dataframe thead th {\n",
       "        text-align: right;\n",
       "    }\n",
       "</style>\n",
       "<table border=\"1\" class=\"dataframe\">\n",
       "  <thead>\n",
       "    <tr style=\"text-align: right;\">\n",
       "      <th></th>\n",
       "      <th>0</th>\n",
       "      <th>1</th>\n",
       "      <th>2</th>\n",
       "    </tr>\n",
       "  </thead>\n",
       "  <tbody>\n",
       "    <tr>\n",
       "      <th>0</th>\n",
       "      <td>360.0</td>\n",
       "      <td>0.0</td>\n",
       "      <td>0.0</td>\n",
       "    </tr>\n",
       "    <tr>\n",
       "      <th>1</th>\n",
       "      <td>0.0</td>\n",
       "      <td>0.0</td>\n",
       "      <td>0.0</td>\n",
       "    </tr>\n",
       "    <tr>\n",
       "      <th>2</th>\n",
       "      <td>0.0</td>\n",
       "      <td>0.0</td>\n",
       "      <td>0.0</td>\n",
       "    </tr>\n",
       "  </tbody>\n",
       "</table>\n",
       "</div>"
      ],
      "text/plain": [
       "       0    1    2\n",
       "0  360.0  0.0  0.0\n",
       "1    0.0  0.0  0.0\n",
       "2    0.0  0.0  0.0"
      ]
     },
     "execution_count": 10,
     "metadata": {},
     "output_type": "execute_result"
    }
   ],
   "source": [
    "df_variations"
   ]
  },
  {
   "cell_type": "markdown",
   "id": "e2d73bc7-e53b-4974-9694-489231adfd06",
   "metadata": {},
   "source": [
    "## 2th step"
   ]
  },
  {
   "cell_type": "code",
   "execution_count": 11,
   "id": "4cbb81a4-d8a7-4f33-a605-9f2b6163611f",
   "metadata": {},
   "outputs": [],
   "source": [
    "def NW_2th(n, m, df, df2):\n",
    "    # s_n = sum(df.iloc[-1])\n",
    "    # s_m = sum(df.iloc[:, -1])\n",
    "    # if s_n==0 or s_m==0:\n",
    "    #     return n, m, df, df2\n",
    "        # s_1 = 0\n",
    "        \n",
    "    # else: \n",
    "    for i in range(100):\n",
    "        if (df.iloc[-1] == 0).all() or (df.iloc[:, -1] == 0).all():\n",
    "            break\n",
    "            \n",
    "        if df.iloc[n][-1] >= df.iloc[-1][m]:\n",
    "            df2.iloc[n][m] = df.iloc[-1][m]\n",
    "            df.iloc[n][-1] -= df.iloc[-1][m]    \n",
    "            df.iloc[-1][m] -= df.iloc[-1][m] # = 0            \n",
    "            m += 1\n",
    "            \n",
    "            print(df)\n",
    "            print(df2)\n",
    "            # n, m, df, df2 = NW_2th(n, m, df, df2)\n",
    "            \n",
    "        if df.iloc[n][-1] < df.iloc[-1][m]:\n",
    "            df2.iloc[n][m] = df.iloc[n][-1]\n",
    "            df.iloc[-1][m] -= df.iloc[n][-1]    \n",
    "            df.iloc[n][-1] -= df.iloc[n][-1] # = 0             \n",
    "            n += 1\n",
    "            \n",
    "            print(df)\n",
    "            print(df2)\n",
    "\n",
    "    \n",
    "    return df, df2\n",
    "    \n",
    "            # n, m, df, df2 = NW_2th(n, m, df, df2)\n",
    "        # if n == len\n",
    "            # s_n = sum(df.iloc[-1])\n",
    "            # s_m = sum(df.iloc[:, -1])\n",
    "            # if s_n==0 or s_m==0:\n",
    "            #     return df, df2"
   ]
  },
  {
   "cell_type": "code",
   "execution_count": 12,
   "id": "d43b8f34-a008-4be5-a082-52dbecf24e6d",
   "metadata": {},
   "outputs": [
    {
     "name": "stdout",
     "output_type": "stream",
     "text": [
      "    A    B    C    n\n",
      "0  15   12   24    0\n",
      "1   7    8   15  300\n",
      "2  27   18   21  100\n",
      "3   0  260  140    0\n",
      "       0     1    2\n",
      "0  360.0  40.0  0.0\n",
      "1    0.0   0.0  0.0\n",
      "2    0.0   0.0  0.0\n",
      "    A   B    C    n\n",
      "0  15  12   24    0\n",
      "1   7   8   15   40\n",
      "2  27  18   21  100\n",
      "3   0   0  140    0\n",
      "       0      1    2\n",
      "0  360.0   40.0  0.0\n",
      "1    0.0  260.0  0.0\n",
      "2    0.0    0.0  0.0\n",
      "    A   B    C    n\n",
      "0  15  12   24    0\n",
      "1   7   8   15    0\n",
      "2  27  18   21  100\n",
      "3   0   0  100    0\n",
      "       0      1     2\n",
      "0  360.0   40.0   0.0\n",
      "1    0.0  260.0  40.0\n",
      "2    0.0    0.0   0.0\n",
      "    A   B   C  n\n",
      "0  15  12  24  0\n",
      "1   7   8  15  0\n",
      "2  27  18  21  0\n",
      "3   0   0   0  0\n",
      "       0      1      2\n",
      "0  360.0   40.0    0.0\n",
      "1    0.0  260.0   40.0\n",
      "2    0.0    0.0  100.0\n"
     ]
    }
   ],
   "source": [
    "df_final, df_variations_final = NW_2th(n, m, df, df_variations)"
   ]
  },
  {
   "cell_type": "code",
   "execution_count": 13,
   "id": "3273f2db-ed58-4f3e-ab9b-c22d1563ae99",
   "metadata": {},
   "outputs": [
    {
     "data": {
      "text/html": [
       "<div>\n",
       "<style scoped>\n",
       "    .dataframe tbody tr th:only-of-type {\n",
       "        vertical-align: middle;\n",
       "    }\n",
       "\n",
       "    .dataframe tbody tr th {\n",
       "        vertical-align: top;\n",
       "    }\n",
       "\n",
       "    .dataframe thead th {\n",
       "        text-align: right;\n",
       "    }\n",
       "</style>\n",
       "<table border=\"1\" class=\"dataframe\">\n",
       "  <thead>\n",
       "    <tr style=\"text-align: right;\">\n",
       "      <th></th>\n",
       "      <th>A</th>\n",
       "      <th>B</th>\n",
       "      <th>C</th>\n",
       "      <th>n</th>\n",
       "    </tr>\n",
       "  </thead>\n",
       "  <tbody>\n",
       "    <tr>\n",
       "      <th>0</th>\n",
       "      <td>15</td>\n",
       "      <td>12</td>\n",
       "      <td>24</td>\n",
       "      <td>0</td>\n",
       "    </tr>\n",
       "    <tr>\n",
       "      <th>1</th>\n",
       "      <td>7</td>\n",
       "      <td>8</td>\n",
       "      <td>15</td>\n",
       "      <td>0</td>\n",
       "    </tr>\n",
       "    <tr>\n",
       "      <th>2</th>\n",
       "      <td>27</td>\n",
       "      <td>18</td>\n",
       "      <td>21</td>\n",
       "      <td>0</td>\n",
       "    </tr>\n",
       "    <tr>\n",
       "      <th>3</th>\n",
       "      <td>0</td>\n",
       "      <td>0</td>\n",
       "      <td>0</td>\n",
       "      <td>0</td>\n",
       "    </tr>\n",
       "  </tbody>\n",
       "</table>\n",
       "</div>"
      ],
      "text/plain": [
       "    A   B   C  n\n",
       "0  15  12  24  0\n",
       "1   7   8  15  0\n",
       "2  27  18  21  0\n",
       "3   0   0   0  0"
      ]
     },
     "execution_count": 13,
     "metadata": {},
     "output_type": "execute_result"
    }
   ],
   "source": [
    "df_final"
   ]
  },
  {
   "cell_type": "code",
   "execution_count": 14,
   "id": "2990b809-5c15-4415-abef-c76fa4a6ff08",
   "metadata": {},
   "outputs": [
    {
     "data": {
      "text/html": [
       "<div>\n",
       "<style scoped>\n",
       "    .dataframe tbody tr th:only-of-type {\n",
       "        vertical-align: middle;\n",
       "    }\n",
       "\n",
       "    .dataframe tbody tr th {\n",
       "        vertical-align: top;\n",
       "    }\n",
       "\n",
       "    .dataframe thead th {\n",
       "        text-align: right;\n",
       "    }\n",
       "</style>\n",
       "<table border=\"1\" class=\"dataframe\">\n",
       "  <thead>\n",
       "    <tr style=\"text-align: right;\">\n",
       "      <th></th>\n",
       "      <th>0</th>\n",
       "      <th>1</th>\n",
       "      <th>2</th>\n",
       "    </tr>\n",
       "  </thead>\n",
       "  <tbody>\n",
       "    <tr>\n",
       "      <th>0</th>\n",
       "      <td>360.0</td>\n",
       "      <td>40.0</td>\n",
       "      <td>0.0</td>\n",
       "    </tr>\n",
       "    <tr>\n",
       "      <th>1</th>\n",
       "      <td>0.0</td>\n",
       "      <td>260.0</td>\n",
       "      <td>40.0</td>\n",
       "    </tr>\n",
       "    <tr>\n",
       "      <th>2</th>\n",
       "      <td>0.0</td>\n",
       "      <td>0.0</td>\n",
       "      <td>100.0</td>\n",
       "    </tr>\n",
       "  </tbody>\n",
       "</table>\n",
       "</div>"
      ],
      "text/plain": [
       "       0      1      2\n",
       "0  360.0   40.0    0.0\n",
       "1    0.0  260.0   40.0\n",
       "2    0.0    0.0  100.0"
      ]
     },
     "execution_count": 14,
     "metadata": {},
     "output_type": "execute_result"
    }
   ],
   "source": [
    "df_variations_final"
   ]
  },
  {
   "cell_type": "markdown",
   "id": "7c8408e2-5bd2-436a-be78-145295f8f66b",
   "metadata": {},
   "source": [
    "## Calculate the objective function"
   ]
  },
  {
   "cell_type": "code",
   "execution_count": 15,
   "id": "b8b15873-517c-4a27-bd42-3f89ee06a200",
   "metadata": {},
   "outputs": [],
   "source": [
    "def compute(df, df_variations):\n",
    "    df = df.iloc[:-1, :-1]\n",
    "    # print(df)\n",
    "\n",
    "    result = 0\n",
    "    for i in range(df.shape[0]):\n",
    "        for j in range(df.shape[1]):\n",
    "            result += df.iloc[i][j] * df_variations.iloc[i][j]\n",
    "            \n",
    "        \n",
    "\n",
    "    return result"
   ]
  },
  {
   "cell_type": "code",
   "execution_count": 16,
   "id": "cd39521b-47a3-4e2f-bdb9-7ed57c0342c1",
   "metadata": {},
   "outputs": [],
   "source": [
    "result = compute(df_final, df_variations_final)"
   ]
  },
  {
   "cell_type": "code",
   "execution_count": 19,
   "id": "156dc0db-85c3-499a-8b8e-e713a37f80e4",
   "metadata": {},
   "outputs": [
    {
     "name": "stdout",
     "output_type": "stream",
     "text": [
      "10660.0\n"
     ]
    }
   ],
   "source": [
    "print(result)"
   ]
  },
  {
   "cell_type": "code",
   "execution_count": null,
   "id": "fadc1c1d-c038-4d1d-97b5-95a5a137650b",
   "metadata": {},
   "outputs": [],
   "source": []
  }
 ],
 "metadata": {
  "kernelspec": {
   "display_name": "Python 3 (ipykernel)",
   "language": "python",
   "name": "python3"
  },
  "language_info": {
   "codemirror_mode": {
    "name": "ipython",
    "version": 3
   },
   "file_extension": ".py",
   "mimetype": "text/x-python",
   "name": "python",
   "nbconvert_exporter": "python",
   "pygments_lexer": "ipython3",
   "version": "3.11.2"
  }
 },
 "nbformat": 4,
 "nbformat_minor": 5
}
